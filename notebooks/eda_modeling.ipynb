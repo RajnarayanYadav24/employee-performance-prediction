{
 "cells": [
  {
   "cell_type": "markdown",
   "id": "cc942748",
   "metadata": {},
   "source": [
    "# 1. Load and Inspect Data"
   ]
  },
  {
   "cell_type": "code",
   "execution_count": 1,
   "id": "afea13b4",
   "metadata": {},
   "outputs": [
    {
     "data": {
      "text/html": [
       "<div>\n",
       "<style scoped>\n",
       "    .dataframe tbody tr th:only-of-type {\n",
       "        vertical-align: middle;\n",
       "    }\n",
       "\n",
       "    .dataframe tbody tr th {\n",
       "        vertical-align: top;\n",
       "    }\n",
       "\n",
       "    .dataframe thead th {\n",
       "        text-align: right;\n",
       "    }\n",
       "</style>\n",
       "<table border=\"1\" class=\"dataframe\">\n",
       "  <thead>\n",
       "    <tr style=\"text-align: right;\">\n",
       "      <th></th>\n",
       "      <th>EmployeeID</th>\n",
       "      <th>Age</th>\n",
       "      <th>Department</th>\n",
       "      <th>Education</th>\n",
       "      <th>Gender</th>\n",
       "      <th>YearsAtCompany</th>\n",
       "      <th>TrainingHours</th>\n",
       "      <th>PerformanceRating</th>\n",
       "    </tr>\n",
       "  </thead>\n",
       "  <tbody>\n",
       "    <tr>\n",
       "      <th>0</th>\n",
       "      <td>101</td>\n",
       "      <td>35</td>\n",
       "      <td>Sales</td>\n",
       "      <td>3</td>\n",
       "      <td>Male</td>\n",
       "      <td>5</td>\n",
       "      <td>40</td>\n",
       "      <td>3</td>\n",
       "    </tr>\n",
       "    <tr>\n",
       "      <th>1</th>\n",
       "      <td>102</td>\n",
       "      <td>29</td>\n",
       "      <td>Tech</td>\n",
       "      <td>4</td>\n",
       "      <td>Female</td>\n",
       "      <td>2</td>\n",
       "      <td>20</td>\n",
       "      <td>2</td>\n",
       "    </tr>\n",
       "    <tr>\n",
       "      <th>2</th>\n",
       "      <td>103</td>\n",
       "      <td>41</td>\n",
       "      <td>HR</td>\n",
       "      <td>2</td>\n",
       "      <td>Female</td>\n",
       "      <td>7</td>\n",
       "      <td>50</td>\n",
       "      <td>4</td>\n",
       "    </tr>\n",
       "    <tr>\n",
       "      <th>3</th>\n",
       "      <td>104</td>\n",
       "      <td>28</td>\n",
       "      <td>Tech</td>\n",
       "      <td>3</td>\n",
       "      <td>Male</td>\n",
       "      <td>1</td>\n",
       "      <td>10</td>\n",
       "      <td>2</td>\n",
       "    </tr>\n",
       "    <tr>\n",
       "      <th>4</th>\n",
       "      <td>105</td>\n",
       "      <td>33</td>\n",
       "      <td>Sales</td>\n",
       "      <td>4</td>\n",
       "      <td>Female</td>\n",
       "      <td>4</td>\n",
       "      <td>25</td>\n",
       "      <td>3</td>\n",
       "    </tr>\n",
       "  </tbody>\n",
       "</table>\n",
       "</div>"
      ],
      "text/plain": [
       "   EmployeeID  Age Department  Education  Gender  YearsAtCompany  \\\n",
       "0         101   35      Sales          3    Male               5   \n",
       "1         102   29       Tech          4  Female               2   \n",
       "2         103   41         HR          2  Female               7   \n",
       "3         104   28       Tech          3    Male               1   \n",
       "4         105   33      Sales          4  Female               4   \n",
       "\n",
       "   TrainingHours  PerformanceRating  \n",
       "0             40                  3  \n",
       "1             20                  2  \n",
       "2             50                  4  \n",
       "3             10                  2  \n",
       "4             25                  3  "
      ]
     },
     "execution_count": 1,
     "metadata": {},
     "output_type": "execute_result"
    }
   ],
   "source": [
    "# Import necessary libraries\n",
    "import pandas as pd\n",
    "import seaborn as sns\n",
    "import matplotlib.pyplot as plt\n",
    "\n",
    "# Load the dataset\n",
    "df = pd.read_csv('../data/employee_data.csv')\n",
    "\n",
    "# Preview data\n",
    "df.head()\n"
   ]
  },
  {
   "cell_type": "code",
   "execution_count": 11,
   "id": "f8466dc7",
   "metadata": {},
   "outputs": [
    {
     "name": "stdout",
     "output_type": "stream",
     "text": [
      "<class 'pandas.core.frame.DataFrame'>\n",
      "RangeIndex: 1000 entries, 0 to 999\n",
      "Data columns (total 7 columns):\n",
      " #   Column             Non-Null Count  Dtype\n",
      "---  ------             --------------  -----\n",
      " 0   Age                1000 non-null   int64\n",
      " 1   Department         1000 non-null   int64\n",
      " 2   Education          1000 non-null   int64\n",
      " 3   Gender             1000 non-null   int64\n",
      " 4   YearsAtCompany     1000 non-null   int64\n",
      " 5   TrainingHours      1000 non-null   int64\n",
      " 6   PerformanceRating  1000 non-null   int64\n",
      "dtypes: int64(7)\n",
      "memory usage: 54.8 KB\n"
     ]
    },
    {
     "data": {
      "text/plain": [
       "Age                  0\n",
       "Department           0\n",
       "Education            0\n",
       "Gender               0\n",
       "YearsAtCompany       0\n",
       "TrainingHours        0\n",
       "PerformanceRating    0\n",
       "dtype: int64"
      ]
     },
     "execution_count": 11,
     "metadata": {},
     "output_type": "execute_result"
    }
   ],
   "source": [
    "df.shape\n",
    "df.info()\n",
    "df.isnull().sum()\n"
   ]
  },
  {
   "cell_type": "markdown",
   "id": "809b4de6",
   "metadata": {},
   "source": [
    "# 2. Visual EDA"
   ]
  },
  {
   "cell_type": "code",
   "execution_count": 3,
   "id": "cdc32c84",
   "metadata": {},
   "outputs": [
    {
     "data": {
      "image/png": "[encoded data removed]",
      "text/plain": [
       "<Figure size 640x480 with 1 Axes>"
      ]
     },
     "metadata": {},
     "output_type": "display_data"
    }
   ],
   "source": [
    "# Countplot of Performance Rating\n",
    "sns.countplot(data=df, x='PerformanceRating')\n",
    "plt.title('Distribution of Performance Ratings')\n",
    "plt.show()\n"
   ]
  },
  {
   "cell_type": "code",
   "execution_count": 4,
   "id": "5eca4a81",
   "metadata": {},
   "outputs": [
    {
     "data": {
      "image/png": "[encoded data removed]",
      "text/plain": [
       "<Figure size 640x480 with 1 Axes>"
      ]
     },
     "metadata": {},
     "output_type": "display_data"
    }
   ],
   "source": [
    "# Boxplot of TrainingHours vs Performance\n",
    "sns.boxplot(data=df, x='PerformanceRating', y='TrainingHours')\n",
    "plt.title('Training Hours by Performance Rating')\n",
    "plt.show()\n"
   ]
  },
  {
   "cell_type": "markdown",
   "id": "d904de9e",
   "metadata": {},
   "source": [
    " # 3. Preprocessing"
   ]
  },
  {
   "cell_type": "code",
   "execution_count": 5,
   "id": "537153c9",
   "metadata": {},
   "outputs": [],
   "source": [
    "from sklearn.preprocessing import LabelEncoder\n",
    "\n",
    "df = df.drop('EmployeeID', axis=1)\n",
    "\n",
    "# Encode categorical columns\n",
    "label_encoders = {}\n",
    "for col in ['Gender', 'Department']:\n",
    "    le = LabelEncoder()\n",
    "    df[col] = le.fit_transform(df[col])\n",
    "    label_encoders[col] = le\n",
    "\n",
    "# Features and target\n",
    "X = df.drop('PerformanceRating', axis=1)\n",
    "y = df['PerformanceRating']\n"
   ]
  },
  {
   "cell_type": "markdown",
   "id": "425c4090",
   "metadata": {},
   "source": [
    "# 4. Train/Test Split + Model Training"
   ]
  },
  {
   "cell_type": "code",
   "execution_count": 6,
   "id": "0ffb96a8",
   "metadata": {},
   "outputs": [
    {
     "name": "stdout",
     "output_type": "stream",
     "text": [
      "Accuracy: 0.77\n",
      "Classification Report:\n",
      "               precision    recall  f1-score   support\n",
      "\n",
      "           1       1.00      0.71      0.83        21\n",
      "           2       0.81      0.91      0.86        70\n",
      "           3       0.76      0.81      0.79        68\n",
      "           4       0.54      0.48      0.51        27\n",
      "           5       0.70      0.50      0.58        14\n",
      "\n",
      "    accuracy                           0.77       200\n",
      "   macro avg       0.76      0.68      0.71       200\n",
      "weighted avg       0.77      0.77      0.76       200\n",
      "\n"
     ]
    }
   ],
   "source": [
    "from sklearn.model_selection import train_test_split\n",
    "from sklearn.ensemble import RandomForestClassifier\n",
    "from sklearn.metrics import classification_report, accuracy_score\n",
    "\n",
    "# Split data\n",
    "X_train, X_test, y_train, y_test = train_test_split(X, y, test_size=0.2, random_state=42)\n",
    "\n",
    "# Train model\n",
    "model = RandomForestClassifier(random_state=42)\n",
    "model.fit(X_train, y_train)\n",
    "\n",
    "# Predict\n",
    "y_pred = model.predict(X_test)\n",
    "\n",
    "# Evaluate\n",
    "print(\"Accuracy:\", accuracy_score(y_test, y_pred))\n",
    "print(\"Classification Report:\\n\", classification_report(y_test, y_pred))\n"
   ]
  },
  {
   "cell_type": "markdown",
   "id": "2eb2f981",
   "metadata": {},
   "source": [
    "# 5. Save Model"
   ]
  },
  {
   "cell_type": "code",
   "execution_count": 7,
   "id": "e2426242",
   "metadata": {},
   "outputs": [
    {
     "data": {
      "text/plain": [
       "['../models/label_encoders.pkl']"
      ]
     },
     "execution_count": 7,
     "metadata": {},
     "output_type": "execute_result"
    }
   ],
   "source": [
    "import joblib\n",
    "\n",
    "# Save model and label encoders\n",
    "joblib.dump(model, '../models/performance_model.pkl')\n",
    "joblib.dump(label_encoders, '../models/label_encoders.pkl')\n"
   ]
  }
 ],
 "metadata": {
  "kernelspec": {
   "display_name": "venv07p",
   "language": "python",
   "name": "python3"
  },
  "language_info": {
   "codemirror_mode": {
    "name": "ipython",
    "version": 3
   },
   "file_extension": ".py",
   "mimetype": "text/x-python",
   "name": "python",
   "nbconvert_exporter": "python",
   "pygments_lexer": "ipython3",
   "version": "3.11.9"
  }
 },
 "nbformat": 4,
 "nbformat_minor": 5
}
